{
 "cells": [
  {
   "cell_type": "markdown",
   "id": "a4897e78-71c0-424e-9116-0c20c9156164",
   "metadata": {},
   "source": [
    "# Importing libraries"
   ]
  },
  {
   "cell_type": "code",
   "execution_count": 133,
   "id": "6a54504e-b069-41c3-9890-a108be64d68a",
   "metadata": {},
   "outputs": [],
   "source": [
    "# Import libraries\n",
    "import pandas as pd\n",
    "import numpy as np\n",
    "import os"
   ]
  },
  {
   "cell_type": "markdown",
   "id": "e7b5d2ec-6537-4aa2-820b-a61d3fd451f0",
   "metadata": {},
   "source": [
    "# Loading data"
   ]
  },
  {
   "cell_type": "code",
   "execution_count": 134,
   "id": "f9f88a3b-4cf6-4c3d-b91a-91ccac705945",
   "metadata": {},
   "outputs": [],
   "source": [
    "# Import files\n",
    "path=r'C:\\Users\\asicz\\OneDrive\\Dokumenty\\CareerFoundry_Data_Analyst_Course\\Data Immersion\\Achievement 4\\20240508_Instacart_Basket_Analysis'\n",
    "vars_list = ['order_id', 'user_id', 'order_number', 'order_dow', 'order_hour_of_day', 'days_since_prior_order']\n",
    "df_ord = pd.read_csv(os.path.join(path, '02_Data', 'Original_data', 'orders.csv'), index_col = False)\n",
    "df_prod = pd.read_csv(os.path.join(path, '02_Data', 'Original_data', 'products.csv'), index_col = False)\n",
    "df_dep = pd.read_csv(os.path.join(path, '02_Data', 'Original_data', 'departments.csv'), index_col = False)"
   ]
  },
  {
   "cell_type": "markdown",
   "id": "7ba2b9cb-b2f5-4028-a51c-3540253fb332",
   "metadata": {},
   "source": [
    "# Data wrangling"
   ]
  },
  {
   "cell_type": "code",
   "execution_count": 135,
   "id": "02b7c62c-3eab-4716-b52a-938c8c8614dc",
   "metadata": {},
   "outputs": [],
   "source": [
    "# Remove the 'eval_set' column from orders and save as a new df\n",
    "df_ord = df_ord.drop(columns = ['eval_set'])\n",
    "\n",
    "# Check for missing values\n",
    "df_ord['days_since_prior_order'].value_counts(dropna = False)\n",
    "\n",
    "# Rename the 'dow' column\n",
    "df_ord.rename(columns = {'order_dow' : 'order_day_of_week'}, inplace = False)\n",
    "\n",
    "# Change data type of IDs\n",
    "df_ord['order_id'] = df_ord['order_id'].astype('str')\n",
    "df_ord['user_id'] = df_ord['user_id'].astype('str')\n",
    "df_prod['product_id'] = df_prod['product_id'].astype('str')\n",
    "df_prod['aisle_id'] = df_prod['aisle_id'].astype('str')\n",
    "\n",
    "# Transposing df_dep\n",
    "df_dep_t = df_dep.T\n",
    "\n",
    "# Creating the data dictionary\n",
    "df_dep_t.reset_index()\n",
    "new_header = df_dep_t.iloc[0]\n",
    "df_dep_t_new = df_dep_t[1:]\n",
    "df_dep_t_new.columns = new_header\n",
    "data_dict = df_dep_t_new.to_dict('index')"
   ]
  },
  {
   "cell_type": "markdown",
   "id": "a2e6beb3-b1ea-403d-829a-a0cb0ea5dce8",
   "metadata": {},
   "source": [
    "# Data subsetting"
   ]
  },
  {
   "cell_type": "code",
   "execution_count": 137,
   "id": "2d786a0b-4a59-40a1-b951-cb1b1537ffdf",
   "metadata": {},
   "outputs": [
    {
     "name": "stdout",
     "output_type": "stream",
     "text": [
      "The most busy hour is: 10\n",
      "Department_id of 4 corresponds to: {'department': 'produce'}\n",
      "The breakfast items are:  ['Wheat Chex Cereal' nan 'Pancake Mix, Buttermilk' ...\n",
      " 'Chocolate Cheerios Cereal' \"Shake 'N Pour Buttermilk Pancake Mix\"\n",
      " \"Ultra Protein Power Crunch Peanut Butter N' Honey Granola\"]\n",
      "{'1': {'department': 'frozen'}, '2': {'department': 'other'}, '3': {'department': 'bakery'}, '4': {'department': 'produce'}, '5': {'department': 'alcohol'}, '6': {'department': 'international'}, '7': {'department': 'beverages'}, '8': {'department': 'pets'}, '9': {'department': 'dry goods pasta'}, '10': {'department': 'bulk'}, '11': {'department': 'personal care'}, '12': {'department': 'meat seafood'}, '13': {'department': 'pantry'}, '14': {'department': 'breakfast'}, '15': {'department': 'canned goods'}, '16': {'department': 'dairy eggs'}, '17': {'department': 'household'}, '18': {'department': 'babies'}, '19': {'department': 'snacks'}, '20': {'department': 'deli'}, '21': {'department': 'missing'}}\n",
      "The last dataframe made (df_party) has 7650 rows\n",
      "   order_id user_id  order_number  order_dow  order_hour_of_day  \\\n",
      "0   2539329       1             1          2                  8   \n",
      "1   2398795       1             2          3                  7   \n",
      "2    473747       1             3          3                 12   \n",
      "3   2254736       1             4          4                  7   \n",
      "4    431534       1             5          4                 15   \n",
      "5   3367565       1             6          2                  7   \n",
      "6    550135       1             7          1                  9   \n",
      "7   3108588       1             8          1                 14   \n",
      "8   2295261       1             9          1                 16   \n",
      "9   2550362       1            10          4                  8   \n",
      "10  1187899       1            11          4                  8   \n",
      "\n",
      "    days_since_prior_order  \n",
      "0                      NaN  \n",
      "1                     15.0  \n",
      "2                     21.0  \n",
      "3                     29.0  \n",
      "4                     28.0  \n",
      "5                     19.0  \n",
      "6                     20.0  \n",
      "7                     14.0  \n",
      "8                      0.0  \n",
      "9                     30.0  \n",
      "10                    14.0  \n",
      "Inspecting the user_id 1 behavior, I havent found anything odd, as comparing to other users\n",
      "Based on the basic statistics we can see that user 1 is placing his/her orders between Sunday and Wednesday between 7am and 4pm. On average this user is ordering every 19 days.\n"
     ]
    }
   ],
   "source": [
    "# What is the busiest hour for placing the order?\n",
    "busy_hour = df_ord['order_hour_of_day'].value_counts().idxmax()\n",
    "print(\"The most busy hour is:\", busy_hour)\n",
    "\n",
    "# What is the 'department_id' of 4 in df_prod?\n",
    "print('Department_id of 4 corresponds to:',data_dict.get('4'))\n",
    "\n",
    "# What are the breakfast items?\n",
    "index = df_dep_t_new.index[df_dep_t_new['department']=='breakfast'][0]\n",
    "df_breakfast = df_prod[df_prod['department_id']== int(index)]\n",
    "unique_items = df_breakfast['product_name'].unique()\n",
    "print('The breakfast items are: ',unique_items)\n",
    "\n",
    "# Products for dinner parties\n",
    "print(data_dict)\n",
    "df_party = df_prod.loc[df_prod['department_id'].isin([5,7,12,20])]\n",
    "df_party.shape\n",
    "print('The last dataframe made (df_party) has 7650 rows')\n",
    "\n",
    "# The case of user 1\n",
    "user1 = df_ord[df_ord['user_id']=='1']\n",
    "print(user1)\n",
    "print('Inspecting the user_id 1 behavior, I havent found anything odd, as comparing to other users.')\n",
    "user1.describe()\n",
    "print('Based on the basic statistics we can see that user 1 is placing his/her orders between Sunday and Wednesday between 7am and 4pm. On average this user is ordering every 19 days.')"
   ]
  },
  {
   "cell_type": "markdown",
   "id": "323304b2-1247-4f1d-b63e-e4bd86574757",
   "metadata": {},
   "source": [
    "# Exporting data"
   ]
  },
  {
   "cell_type": "code",
   "execution_count": 138,
   "id": "903b98cc-0ef7-49fa-8451-ca93d273bc43",
   "metadata": {},
   "outputs": [],
   "source": [
    "# Export wrangled orders data\n",
    "df_ord.to_csv(os.path.join(path, '02_Data','Prepared_data', 'orders_wrangled.csv'))\n",
    "\n",
    "# Export wrangled departmets data\n",
    "df_dep_t_new.to_csv(os.path.join(path, '02_Data','Prepared_data', 'departmets_wrangled.csv'))\n",
    "\n",
    "# Exporty dinner party subset of products data\n",
    "df_party.to_csv(os.path.join(path, '02_Data','Prepared_data', 'dinner_party_products.csv'))"
   ]
  },
  {
   "cell_type": "code",
   "execution_count": null,
   "id": "3b4c0303-fdc0-4613-9cc4-38e71e21e3ab",
   "metadata": {},
   "outputs": [],
   "source": []
  }
 ],
 "metadata": {
  "kernelspec": {
   "display_name": "Python 3 (ipykernel)",
   "language": "python",
   "name": "python3"
  },
  "language_info": {
   "codemirror_mode": {
    "name": "ipython",
    "version": 3
   },
   "file_extension": ".py",
   "mimetype": "text/x-python",
   "name": "python",
   "nbconvert_exporter": "python",
   "pygments_lexer": "ipython3",
   "version": "3.11.7"
  }
 },
 "nbformat": 4,
 "nbformat_minor": 5
}
