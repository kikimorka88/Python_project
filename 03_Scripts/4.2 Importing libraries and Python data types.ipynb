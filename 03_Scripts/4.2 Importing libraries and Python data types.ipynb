{
 "cells": [
  {
   "cell_type": "markdown",
   "id": "c3343240-6ede-4b2f-a8a4-5bdc4294351a",
   "metadata": {},
   "source": [
    "# 01. Importing libraries"
   ]
  },
  {
   "cell_type": "code",
   "execution_count": 4,
   "id": "87a0bba0-c8f3-49db-bcd0-1d40948bb084",
   "metadata": {},
   "outputs": [],
   "source": [
    "# Import libraries\n",
    "import pandas as pd\n",
    "import numpy as np\n",
    "import os"
   ]
  },
  {
   "cell_type": "markdown",
   "id": "f61540a2-9129-447b-8dc1-506e1d7646d0",
   "metadata": {},
   "source": [
    "# 02. Data types"
   ]
  },
  {
   "cell_type": "code",
   "execution_count": 35,
   "id": "ccc725cf-897b-42af-802a-d37103ccde3b",
   "metadata": {},
   "outputs": [
    {
     "name": "stdout",
     "output_type": "stream",
     "text": [
      "100 100 100\n"
     ]
    }
   ],
   "source": [
    "# Result is 100!\n",
    "x=25\n",
    "y=125\n",
    "z=75\n",
    "\n",
    "r1=x+x+x+x\n",
    "r2=y-x\n",
    "r3=x+z\n",
    "\n",
    "print(r1, r2, r3)"
   ]
  },
  {
   "cell_type": "code",
   "execution_count": 36,
   "id": "4f3bce8d-df14-4fdd-b8d6-5c5ace372786",
   "metadata": {},
   "outputs": [
    {
     "name": "stdout",
     "output_type": "stream",
     "text": [
      "1.1544117647058822\n"
     ]
    }
   ],
   "source": [
    "# Floating point\n",
    "x=3.14\n",
    "y=2.72\n",
    "\n",
    "r4=x/y\n",
    "\n",
    "print(r4)"
   ]
  },
  {
   "cell_type": "code",
   "execution_count": 37,
   "id": "f0ea939b-cc6e-4ba4-8ef0-7c0481165190",
   "metadata": {},
   "outputs": [
    {
     "name": "stdout",
     "output_type": "stream",
     "text": [
      "minibrain\n"
     ]
    }
   ],
   "source": [
    "# Concatenation - word\n",
    "a='mini'\n",
    "b='brain'\n",
    "\n",
    "c=a+b\n",
    "\n",
    "print(c)"
   ]
  },
  {
   "cell_type": "code",
   "execution_count": 46,
   "id": "6652de0b-b60f-49e1-bc03-f4b53a575d05",
   "metadata": {},
   "outputs": [
    {
     "name": "stdout",
     "output_type": "stream",
     "text": [
      "little fox caught big mouse \n",
      "big mouse caught little fox \n"
     ]
    }
   ],
   "source": [
    "# Concatenation - sentence\n",
    "a='little '\n",
    "b='big '\n",
    "c='fox '\n",
    "d='mouse '\n",
    "e='caught '\n",
    "\n",
    "s1=a+c+e+b+d\n",
    "s2=b+d+e+a+c\n",
    "\n",
    "print(s1 + '\\n' + s2)"
   ]
  },
  {
   "cell_type": "code",
   "execution_count": 47,
   "id": "729e5b3d-d10c-435f-a2f4-d453393967c5",
   "metadata": {},
   "outputs": [
    {
     "name": "stdout",
     "output_type": "stream",
     "text": [
      "fox fox fox fox fox fox fox fox fox fox fox fox fox fox fox fox fox fox fox fox fox fox fox fox fox fox fox fox fox fox fox fox fox fox fox fox fox fox fox fox fox fox fox fox fox fox fox fox fox fox fox fox fox fox fox fox fox fox fox fox fox fox fox fox fox fox fox fox fox fox fox fox fox fox fox fox fox fox fox fox fox fox fox fox fox fox fox fox fox fox fox fox fox fox fox fox fox fox fox fox \n"
     ]
    }
   ],
   "source": [
    "# 100 times\n",
    "f=100*c\n",
    "print(f)"
   ]
  }
 ],
 "metadata": {
  "kernelspec": {
   "display_name": "Python 3 (ipykernel)",
   "language": "python",
   "name": "python3"
  },
  "language_info": {
   "codemirror_mode": {
    "name": "ipython",
    "version": 3
   },
   "file_extension": ".py",
   "mimetype": "text/x-python",
   "name": "python",
   "nbconvert_exporter": "python",
   "pygments_lexer": "ipython3",
   "version": "3.11.7"
  }
 },
 "nbformat": 4,
 "nbformat_minor": 5
}
